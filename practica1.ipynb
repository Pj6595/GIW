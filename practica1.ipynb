{
 "cells": [
  {
   "cell_type": "markdown",
   "metadata": {},
   "source": [
    "### Práctica de Introducción al lenguaje Python"
   ]
  },
  {
   "cell_type": "markdown",
   "metadata": {},
   "source": [
    "#### Ejercicio 1[3 puntos]\n",
    "Se quiere simular una agenda de contactos de forma que de cada contacto se desea almacenar: nombre, apellidos, teléfono, y cuenta de email. \n",
    "El programa debe permitir:\n",
    " 1) Añadir un contacto\n",
    " 2) Eliminar un contacto.\n",
    " 3) Modificar un contacto.\n",
    " 4) Consultar datos de un contacto.\n",
    " 5) Guardar agenda en un fichero.\n",
    " 6) Leer agenda de un fichero\n",
    " 7) Finalizar. Cuando se finaliza,automaticamente guarda la agenda en un fichero de texto."
   ]
  },
  {
   "cell_type": "code",
   "execution_count": 1,
   "metadata": {},
   "outputs": [
    {
     "ename": "KeyboardInterrupt",
     "evalue": "Interrupted by user",
     "output_type": "error",
     "traceback": [
      "\u001b[1;31m---------------------------------------------------------------------------\u001b[0m",
      "\u001b[1;31mKeyboardInterrupt\u001b[0m                         Traceback (most recent call last)",
      "\u001b[1;32m<ipython-input-1-2309a585b66a>\u001b[0m in \u001b[0;36m<module>\u001b[1;34m\u001b[0m\n\u001b[0;32m     71\u001b[0m \u001b[0mentrada\u001b[0m \u001b[1;33m=\u001b[0m \u001b[1;36m0\u001b[0m\u001b[1;33m\u001b[0m\u001b[1;33m\u001b[0m\u001b[0m\n\u001b[0;32m     72\u001b[0m \u001b[1;32mwhile\u001b[0m \u001b[0mentrada\u001b[0m \u001b[1;33m!=\u001b[0m \u001b[1;34m\"7\"\u001b[0m\u001b[1;33m:\u001b[0m\u001b[1;33m\u001b[0m\u001b[1;33m\u001b[0m\u001b[0m\n\u001b[1;32m---> 73\u001b[1;33m     entrada = input(\"Qué quieres hacer? \\n\" +\n\u001b[0m\u001b[0;32m     74\u001b[0m                     \u001b[1;34m\"1 para añadir contacto \\n\"\u001b[0m \u001b[1;33m+\u001b[0m\u001b[1;33m\u001b[0m\u001b[1;33m\u001b[0m\u001b[0m\n\u001b[0;32m     75\u001b[0m                     \u001b[1;34m\"2 para eliminar contacto \\n\"\u001b[0m\u001b[1;33m+\u001b[0m\u001b[1;33m\u001b[0m\u001b[1;33m\u001b[0m\u001b[0m\n",
      "\u001b[1;32mD:\\Archivos de Programa\\anaconda3\\lib\\site-packages\\ipykernel\\kernelbase.py\u001b[0m in \u001b[0;36mraw_input\u001b[1;34m(self, prompt)\u001b[0m\n\u001b[0;32m    858\u001b[0m                 \u001b[1;34m\"raw_input was called, but this frontend does not support input requests.\"\u001b[0m\u001b[1;33m\u001b[0m\u001b[1;33m\u001b[0m\u001b[0m\n\u001b[0;32m    859\u001b[0m             )\n\u001b[1;32m--> 860\u001b[1;33m         return self._input_request(str(prompt),\n\u001b[0m\u001b[0;32m    861\u001b[0m             \u001b[0mself\u001b[0m\u001b[1;33m.\u001b[0m\u001b[0m_parent_ident\u001b[0m\u001b[1;33m,\u001b[0m\u001b[1;33m\u001b[0m\u001b[1;33m\u001b[0m\u001b[0m\n\u001b[0;32m    862\u001b[0m             \u001b[0mself\u001b[0m\u001b[1;33m.\u001b[0m\u001b[0m_parent_header\u001b[0m\u001b[1;33m,\u001b[0m\u001b[1;33m\u001b[0m\u001b[1;33m\u001b[0m\u001b[0m\n",
      "\u001b[1;32mD:\\Archivos de Programa\\anaconda3\\lib\\site-packages\\ipykernel\\kernelbase.py\u001b[0m in \u001b[0;36m_input_request\u001b[1;34m(self, prompt, ident, parent, password)\u001b[0m\n\u001b[0;32m    902\u001b[0m             \u001b[1;32mexcept\u001b[0m \u001b[0mKeyboardInterrupt\u001b[0m\u001b[1;33m:\u001b[0m\u001b[1;33m\u001b[0m\u001b[1;33m\u001b[0m\u001b[0m\n\u001b[0;32m    903\u001b[0m                 \u001b[1;31m# re-raise KeyboardInterrupt, to truncate traceback\u001b[0m\u001b[1;33m\u001b[0m\u001b[1;33m\u001b[0m\u001b[1;33m\u001b[0m\u001b[0m\n\u001b[1;32m--> 904\u001b[1;33m                 \u001b[1;32mraise\u001b[0m \u001b[0mKeyboardInterrupt\u001b[0m\u001b[1;33m(\u001b[0m\u001b[1;34m\"Interrupted by user\"\u001b[0m\u001b[1;33m)\u001b[0m \u001b[1;32mfrom\u001b[0m \u001b[1;32mNone\u001b[0m\u001b[1;33m\u001b[0m\u001b[1;33m\u001b[0m\u001b[0m\n\u001b[0m\u001b[0;32m    905\u001b[0m             \u001b[1;32mexcept\u001b[0m \u001b[0mException\u001b[0m \u001b[1;32mas\u001b[0m \u001b[0me\u001b[0m\u001b[1;33m:\u001b[0m\u001b[1;33m\u001b[0m\u001b[1;33m\u001b[0m\u001b[0m\n\u001b[0;32m    906\u001b[0m                 \u001b[0mself\u001b[0m\u001b[1;33m.\u001b[0m\u001b[0mlog\u001b[0m\u001b[1;33m.\u001b[0m\u001b[0mwarning\u001b[0m\u001b[1;33m(\u001b[0m\u001b[1;34m\"Invalid Message:\"\u001b[0m\u001b[1;33m,\u001b[0m \u001b[0mexc_info\u001b[0m\u001b[1;33m=\u001b[0m\u001b[1;32mTrue\u001b[0m\u001b[1;33m)\u001b[0m\u001b[1;33m\u001b[0m\u001b[1;33m\u001b[0m\u001b[0m\n",
      "\u001b[1;31mKeyboardInterrupt\u001b[0m: Interrupted by user"
     ]
    }
   ],
   "source": [
    "agenda = []\n",
    "\n",
    "#añade un contacto a la agenda\n",
    "def añadir(nombre, apellido1, apellido2, telefono, email):\n",
    "    contacto = []\n",
    "    contacto.append(nombre)\n",
    "    contacto.append(apellido1)\n",
    "    contacto.append(apellido2)\n",
    "    contacto.append(telefono)\n",
    "    contacto.append(email)\n",
    "    agenda.append(contacto)\n",
    "    print(\"Contacto \" + nombre + \" añadido.\\n\")\n",
    "\n",
    "#busca un contacto por nombre y lo elimina\n",
    "def eliminar(nombre):\n",
    "    for i in agenda:\n",
    "        if nombre == i[0]:\n",
    "            agenda.remove(i)\n",
    "            print(\"Contacto \" + nombre + \" eliminado.\\n\")\n",
    "            return\n",
    "    print(\"No existe pringao.\\n\")\n",
    "\n",
    "#busca un contacto por nombre y lo modifica\n",
    "def modificar(nombre, newNombre, newApellido1, newApellido2, newTelefono, newEmail):\n",
    "    for i in agenda:\n",
    "        if nombre == i[0]:\n",
    "            i[0] = newNombre\n",
    "            i[1] = newApellido1\n",
    "            i[2] = newApellido2\n",
    "            i[3] = newTelefono\n",
    "            i[4] = newEmail\n",
    "            print(\"Contacto \" + newNombre + \" modificado.\\n\")\n",
    "            return\n",
    "    print(\"El contacto que intentas consultar no existe.\\n\")\n",
    "\n",
    "#busca un contacto por nombre y muestra su info\n",
    "def consultar(nombre):\n",
    "    for i in agenda:\n",
    "        if nombre == i[0]:\n",
    "            print(\"Nombre: \" + i[0])\n",
    "            print(\"Apellido 1: \" + i[1])\n",
    "            print(\"Apellido 2: \" + i[2])\n",
    "            print(\"Telefono: \" + i[3])\n",
    "            print(\"Email: \" + i[4] + \"\\n\")\n",
    "            return\n",
    "    print(\"El contacto que intentas consultar no existe.\\n\")\n",
    "\n",
    "#guarda los datos de la agenda en un archivo\n",
    "#el archivo contiene una línea por contacto con su info separada por espacios\n",
    "def escribeArchivo(filePath):\n",
    "    archivo = open(filePath, 'w')\n",
    "    for i in agenda:\n",
    "        archivo.write(i[0] + \" \" + i[1] + \" \" + i[2] + \" \" + i[3] + \" \" + i[4] + \"\\n\")\n",
    "    archivo.close()\n",
    "\n",
    "#borra todos los contactos que hay actualmente en la agenda y los sustituye por los del archivo.\n",
    "def leeArchivo(filePath):\n",
    "    try:\n",
    "        archivo = open(filePath)\n",
    "        for i in agenda:\n",
    "            agenda.remove(i)\n",
    "        print(\"Agenda borrada! Guardando agenda nueva...\\n\")\n",
    "        for linea in archivo:\n",
    "            contacto = linea.split(\" \")\n",
    "            agenda.append(contacto)\n",
    "        print(\"Agenda de \" + filePath + \" leída!\")\n",
    "        archivo.close()\n",
    "    except IOError:\n",
    "        print(\"La agenda que intentas leer no existe.\\n\")\n",
    "\n",
    "entrada = 0\n",
    "while entrada != \"7\":\n",
    "    entrada = input(\"Qué quieres hacer? \\n\" +\n",
    "                    \"1 para añadir contacto \\n\" +\n",
    "                    \"2 para eliminar contacto \\n\"+\n",
    "                    \"3 para modificar contacto \\n\"+\n",
    "                    \"4 para consultar contacto \\n\"+\n",
    "                    \"5 para guardar en archivo \\n\" +\n",
    "                    \"6 para leer de archivo \\n\" +\n",
    "                    \"7 para cerrar el programa \\n\")\n",
    "    if entrada == \"1\":\n",
    "        nombre = input(\"Nombre: \\n\")\n",
    "        apellido1 = input(\"Apellido 1: \\n\")\n",
    "        apellido2 = input(\"Apellido 2: \\n\")\n",
    "        telefono = input(\"Telefono: \\n\")\n",
    "        email = input(\"Email: \\n\")\n",
    "        añadir(nombre, apellido1, apellido2, telefono, email)\n",
    "    elif entrada == \"2\":\n",
    "        nombre = input(\"Nombre: \\n\")\n",
    "        eliminar(nombre)\n",
    "    elif entrada == \"3\":\n",
    "        nombre = input(\"Nombre: \\n\")\n",
    "        newNombre = input(\"Nuevo nombre: \\n\")\n",
    "        newApellido1 = input(\"Nuevo apellido 1: \\n\")\n",
    "        newApellido2 = input(\"Nuevo Apellido 2: \\n\")\n",
    "        newTelefono = input(\"Nuevo Telefono: \\n\")\n",
    "        newEmail = input(\"Nuevo Email: \\n\")\n",
    "        modificar(nombre, newNombre, newApellido1, newApellido2, newTelefono, newEmail)\n",
    "    elif entrada == \"4\":\n",
    "        nombre = input(\"Nombre: \\n\")\n",
    "        consultar(nombre)\n",
    "    elif entrada == \"5\":\n",
    "        filepath = input(\"Escribe el nombre del archivo: \\n\")\n",
    "        escribeArchivo(filepath)\n",
    "        print(\"Agenda guardada en \" + filepath + \"\\n\")\n",
    "    elif entrada == \"6\":\n",
    "        filepath = input(\"Escribe el nombre del archivo: \\n\")\n",
    "        leeArchivo(filepath)\n",
    "\n",
    "filepath = input(\"Escribe el nombre del archivo para guardar los datos: \\n\")\n",
    "escribeArchivo(filepath)\n",
    "print(\"Agenda guardada en \" + filepath + \"\\n\")\n",
    "print(\"Saliendo del programa...\\n\")"
   ]
  },
  {
   "cell_type": "markdown",
   "metadata": {},
   "source": [
    "#### Ejercicio 2[4 puntos]\n",
    "Considera el problema de resolver un sistema de 3 ecuaciones por el método de Gauss:\n",
    "https://es.wikipedia.org/wiki/Sistema_de_ecuaciones_lineales#M%C3%A9todo_de_Gauss\n",
    "\n",
    "Se pide implementar un programa que dado un sistema de 3 ecuaciones expresado en forma de una lista de listas donde cada lista representa una ecuación del sistema, devuelva como resultado los valores de las incognitas. \n",
    "\n",
    "Se espera que el sistema que se introduzca tenga solución, pero no hace falta realizar esta comprobación en el código del programa.\n",
    "\n",
    "No se pueden usar ninguna función o método que calcule directamente el determinante."
   ]
  },
  {
   "cell_type": "markdown",
   "metadata": {},
   "source": [
    "#### Ejercicio 3[3 puntos]\n",
    "El análisis del sentimiento de un texto consiste en asociar al texto un valor numérico que se obtiene de sumar/restar una cantidad por cada aparición de una palabra en el texto de acuerdo a un listado de palabras que tienen valores asociados. Más concretamente si se quiere obtener el análisis del sentimiento, se procesa el texto palabra a palabra:\n",
    "  1) Se toma una palabra, y se busca en la lista de palabras que valor le corresponde.\n",
    "  2) El valor se suma a un contador general.\n",
    "  3) En caso de que la palabra no aparezca, se suma 0.\n",
    "  4) Se pasa a la siguiente palabra\n",
    "  5) Cuando ya no quedan más palabras por procesar del texto, se devuelve el número obtenido.\n",
    "\n",
    "Se pide implementar un programa para calcular el análisis del sentimiento de un texto que será proporcionado a través de un fichero. El listado con las palabras y los valores asociados se proporcionará mediante otro fichero que deberá tener en cada línea del mismo una palabra y un valor separados ambos por un blanco y finalizados por salto de linea. Para realizar el procesamiento no se distinguirá entre mayúsculas y minúsculas. \n",
    "\n",
    "No se pueden usar ninguna función o método que realice directamente el procesamiento."
   ]
  },
  {
   "cell_type": "markdown",
   "metadata": {},
   "source": [
    "#### Normas de entrega\n",
    "\n",
    "* Fecha tope de entrega: 15/10/2020\n",
    "* La entrega se realizará subiendo al campus virtual un notebook de Jupyter con la solución. El archivo tendrá como nombre IntroPython_GrupoX donde X será el número de grupo correspondiente."
   ]
  },
  {
   "cell_type": "code",
   "execution_count": 1,
   "metadata": {},
   "outputs": [
    {
     "data": {
      "text/plain": [
       "2"
      ]
     },
     "execution_count": 1,
     "metadata": {},
     "output_type": "execute_result"
    }
   ],
   "source": []
  }
 ],
 "metadata": {
  "anaconda-cloud": {},
  "kernelspec": {
   "display_name": "Python 3",
   "language": "python",
   "name": "python3"
  },
  "language_info": {
   "codemirror_mode": {
    "name": "ipython",
    "version": 3
   },
   "file_extension": ".py",
   "mimetype": "text/x-python",
   "name": "python",
   "nbconvert_exporter": "python",
   "pygments_lexer": "ipython3",
   "version": "3.8.3"
  }
 },
 "nbformat": 4,
 "nbformat_minor": 1
}
