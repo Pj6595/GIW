{
 "cells": [
  {
   "cell_type": "markdown",
   "metadata": {},
   "source": [
    "### Práctica de Formatos de datos: XML"
   ]
  },
  {
   "cell_type": "markdown",
   "metadata": {},
   "source": [
    "El objetivo de esta práctica es crear una aplicación que gestionará información sobre las bibliotecas públicas y bibliobuses situados en la ciudad de Madrid, de titularidad nacional, comunitaria o local. \n",
    "\n",
    "Para ello se va a usar el catálogo \"Bibliotecas y bibliobuses en la ciudad de Madrid\" del portal de datos abiertos del Ayuntamiento de Madrid. Este catalogo ofrece datos de dirección, horario, servicios y coordenadas para su georeferenciación. La información se encuentra en:\n",
    "https://datos.madrid.es/portal/site/egob/menuitem.c05c1f754a33a9fbe4b2e4b284f1a5a0/?vgnextoid=ed35401429b83410VgnVCM1000000b205a0aRCRD&vgnextchannel=374512b9ace9f310VgnVCM100000171f5a0aRCRD&vgnextfmt=default\n",
    "\n",
    "Y el conjunto de datos XML que hay que procesar está situado en:\n",
    "https://datos.madrid.es/egob/catalogo/201747-0-bibliobuses-bibliotecas.xml\n",
    "\n",
    "El siguiente trozo de código permite recuperar el archivo xml en cuestion, y lo almacena en disco."
   ]
  },
  {
   "cell_type": "code",
   "execution_count": null,
   "metadata": {},
   "outputs": [],
   "source": [
    "import urllib.request\n",
    "x = urllib.request.urlopen('https://datos.madrid.es/egob/catalogo/201747-0-bibliobuses-bibliotecas.xml')\n",
    "a=x.read()\n",
    "a=a.decode(\"utf-8\")\n",
    "prueba=open(\"catalogo.xml\",\"w\")\n",
    "prueba.write(str(a))\n",
    "prueba.close()"
   ]
  },
  {
   "cell_type": "markdown",
   "metadata": {},
   "source": [
    "__Ejercicio 1 [5 puntos]__\n",
    "\n",
    "Se pide mostrar al usuario un listado de los nombres de las bibliotecas que contiene el archivo con el objetivo de que elija una de las bibliotecas y se le muestre de forma amigable(sin etiquetas) por pantalla la información asociada al parque que se encuentra en el fichero recuperado:\n",
    "\n",
    "* Nombre de la biblioteca: atributo NOMBRE\n",
    "* Horario: atributo HORARIO\n",
    "* Equipamiento: atributo EQUIPAMIENTO\n",
    "* Transporte: atributo TRANSPORTE\n",
    "* Localización: atributos CLASE-VIAL,NOMBRE-VIA,NUM,LOCALIDAD,PROVINCIA,CODIGO-POSTAL \n",
    "* Teléfono: atributo TELÉFONO\n",
    "* Email: atributo EMAIL  \n",
    "\n",
    "Observar que algunos atributos pueden no aparecer en las bibliotecas. En estos casos, simplemente se mostrará vacío o con la palabra \"Desconocido\"\n",
    "\n",
    "Por ejemplo si el usuario hubiera elegido la biblioteca \"Biblioteca Pública Antonio Mingote (Latina)\" debería mostrarse por pantalla:\n",
    "\n",
    "__Nombre de la biblioteca:__\n",
    "\n",
    "Biblioteca Pública Antonio Mingote (Latina)\n",
    "    \n",
    "__Horario:__\n",
    "\n",
    "De lunes a viernes de 9 a 21 horas. Sala Infantil de 15 a 21 horas. Sábados de 9 a 14 horas. Los servicios de préstamo y acceso a internet finalizan 15 minutos antes del cierre de la Biblioteca.Días de cierre: Sábados: 11 de abril; 16 de mayo; todos los sábados de julio, agosto y septiembre; 26 de diciembre. Domingos: todos. Festivos:1 y 6 de enero; 9 y 10 de abril; 1, 2 y 15 de mayo; 15 de agosto; 12 de octubre; 2 y 9 de noviembre; 7, 8, 24, 25 y 31 de diciembre.\n",
    "\n",
    "__Equipamiento:__\n",
    "\n",
    "184 puestos de lectura y 25 para el uso de InternetWifi gratuito\n",
    "    \n",
    "__Transporte:__ \n",
    "\n",
    "Bus: 17, 138 Cercanías Renfe: Fanjul (línea C5)\n",
    "\n",
    "__Localización:__ \n",
    "\n",
    "CALLE RAFAEL FINAT, 51.MADRID. MADRID 28044\n",
    "\n",
    "__Teléfono:__ \n",
    "\n",
    "915 093 625\n",
    "\n",
    "__Email:__ \n",
    "\n",
    "bib.latina@madrid.org"
   ]
  },
  {
   "cell_type": "markdown",
   "metadata": {},
   "source": [
    "__Ejercicio 2 [5 puntos]__\n",
    "\n",
    "Este ejercicio se pide crear un buscador sobre la información recuperada, de forma que el usuario podrá buscar bibliotecas por diferentes criterios:\n",
    "\n",
    " * Accesibilidad\n",
    " \n",
    " * Nombre\n",
    " \n",
    " * Barrio\n",
    " \n",
    " * Distrito\n",
    " \n",
    "Como resultado debería mostrarse un listado de todas las bibliotecas que cumplen las condiciones impuestas por el usuario. Se mostrará de cada biblioteca la misma información que en el caso anterior.  En caso de no existir una biblioteca con las condiciones dada, se mostrará un mensaje informativo.\n",
    "\n",
    "Observar que habrá que preguntar al usuario por cada uno de los criterios, y éste tendrá que seleccionar un valor por cada criterio o no seleccionarlo. Después de mostrarle la información, se le volverá a preguntar si quiere seguir buscando. Entre las opciones del menú deberá existir una que sea para finalizar la búsqueda."
   ]
  },
  {
   "cell_type": "markdown",
   "metadata": {
    "collapsed": true
   },
   "source": [
    "Normas de entrega\n",
    "\n",
    "   * Fecha tope de entrega: 29/10/2018\n",
    "   * La entrega se realizará subiendo al campus virtual un notebook de Jupyter con la solución. El archivo tendrá como nombre FormatosII_GrupoX donde X será el número de grupo correspondiente.\n"
   ]
  }
 ],
 "metadata": {
  "kernelspec": {
   "display_name": "Python 3",
   "language": "python",
   "name": "python3"
  },
  "language_info": {
   "codemirror_mode": {
    "name": "ipython",
    "version": 3
   },
   "file_extension": ".py",
   "mimetype": "text/x-python",
   "name": "python",
   "nbconvert_exporter": "python",
   "pygments_lexer": "ipython3",
   "version": "3.8.5"
  }
 },
 "nbformat": 4,
 "nbformat_minor": 2
}
