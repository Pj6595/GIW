{
 "cells": [
  {
   "cell_type": "markdown",
   "metadata": {},
   "source": [
    "### Práctica de Formatos de datos: CSV y JSON"
   ]
  },
  {
   "cell_type": "markdown",
   "metadata": {},
   "source": [
    "#### Ejercicio 1[5 puntos]\n",
    "Considerar el archivo __AccidentesBicicletas_2020.csv__. El archivo contiene la información sobre los accidentes de tráfico en la Ciudad de Madrid registrados por Policía Municipal, donde está implicada al menos una bicicleta, durante el año 2020.\n",
    "\n",
    "Una descripción detallada de la estructura de los datos se puede encontrar en el siguiente enlace: https://datos.madrid.es/FWProjects/egob/Catalogo/Seguridad/Ficheros/Estructura_DS_Accidentes_Bicicletas_desde_2019.pdf\n",
    "\n",
    "La información contenida por columnas es la siguiente:\n",
    "\n",
    "|Campo|Significado|\n",
    "|-----|-----------|\n",
    "|Nº EXPEDIENTE| Con el formato AAAASNNNNNN(ver documentación)|\n",
    "|FECHA|Fecha en formato dd/mm/aaaa|\n",
    "|HORA|La hora se establece en rangos horarios de 1 hora|\n",
    "|CALLE|calle 1 ‐ calle 2 (cruce) o una calle|\n",
    "|NÚMERO|Número de la calle, cuando tiene sentido|\n",
    "|DISTRITO|Nombre del distrito|\n",
    "|TIPO ACCIDENTE*|Viene tipificado más abajo, en tabla con su descripción|\n",
    "|ESTADO METEREOLÓGICO| Condiciones ambientales que se dan en el momento del siniestro.|\n",
    "|TIPO VEHÍCULO| Tipo de vehículo afectado|\n",
    "|TIPO PERSONA| Puede ser: Conductor, peatón, testigo o viajero|\n",
    "|TRAMO EDAD| Tramo de edad de la persona afectada|\n",
    "|SEXO| Puede ser: Hombre, mujer o no asignado|\n",
    "|LESIVIDAD*| Ver documentación|\n",
    "\n",
    "Se pide crear funciones que realicen las siguientes operaciones:\n",
    "* Leer los datos del archivo __AccidentesBicicletas_2020.csv__\n",
    "* Consulta 1: Obtener y  mostrar por pantalla por cada Distrito (columna DISTRITO) y por cada tipo de persona(columna TIPO PERSONA), la suma total de accidentes que se han producido durante 2020, es decir:\n",
    "\n",
    "|Distrito|Conductor| Peatón| Testigo|Viajero|\n",
    "|----|-------------|-------------|-------------|-------------|\n",
    "|Distrito1|Subtotal11 |--- |--- |Subtotal1n|  \n",
    "|Distrito2|--- |--- |--- |--- | \n",
    "|   ...|--- |--- |--- |--- |     \n",
    "|Distriton|Subtotal1n |--- |--- |Subtotalnn| \n",
    "     \n",
    "* Consulta 2:Obtener y  mostrar por pantalla por cada Distrito (columna DISTRITO) cuántos accidentes acabaron en 07 asistencia sanitaria sólo en el lugar del accidente(Valor 07columna LESIVIDAD*) durante 2020, es decir:\n",
    "\n",
    "|Distrito|Accidentes|\n",
    "|----|-------------|\n",
    "|Distrito1|Total1 | \n",
    "|Distrito2|--- |\n",
    "|   ...|--- |    \n",
    "|Distriton|Totaln |\n",
    "\n",
    "\n",
    "* Generar un documento __Salida.csv__ donde se almacene la información generada en la Consulta 1 de la siguiente forma:\n",
    "\n",
    "    Distrito1, Conductor,Subtotal11, Peatón,Subtotal12,Testigo, Subtotal13,Viajero,Subtotal14\n",
    "    \n",
    "    Distriton, Conductor,Subtotaln1, Peatón,Subtotaln2,Testigo, Subtotaln3,Viajero,Subtotaln4\n",
    "    \n",
    "Tanto en lo que mostréis por pantalla como lo que escribáis en el archivo usad los nombres de los distritos que aparecen en los datos.\n",
    "    "
   ]
  },
  {
   "cell_type": "markdown",
   "metadata": {},
   "source": [
    "Para leer los archivos usa un código como el siguiente:"
   ]
  },
  {
   "cell_type": "code",
   "execution_count": null,
   "metadata": {},
   "outputs": [],
   "source": [
    "import csv\n",
    "csvarchivo = open('AccidentesBicicletas_2020.csv',encoding=\"utf8\",errors='ignore')\n",
    "entrada = csv.reader(csvarchivo, delimiter=\";\")\n",
    "for i in entrada:\n",
    "    print(i)"
   ]
  },
  {
   "cell_type": "markdown",
   "metadata": {},
   "source": [
    "#### Ejercicio 2[5 puntos]\n",
    "Considerar el archivo __202006_movements.json__. El archivo contiene la información sobre los datos de los itinerarios de las bicicletas eléctricas del servicio BiciMAD \n",
    "\n",
    "Una descripción detallada de la estructura de los datos se puede encontrar en el siguiente enlace: https://opendata.emtmadrid.es/Documentos/Servicios-y-estructuras-Bicimad-V1-1.aspx\n",
    "\n",
    "La información contenida por columnas es la siguiente:\n",
    "\n",
    "\n",
    "* __id__: Identificador del movimiento.\n",
    "\n",
    "\n",
    "* __user_day_code__: Código del usuario. Para una misma fecha, todos los movimientos de un mismo usuario, tendrán el mismo código, con el fin de poder realizar estudios estadísticos de las tendencias diarias de los usuarios.\n",
    "\n",
    "\n",
    "* __idunplug_station__: Número de la estación de la que se desengancha la bicicleta. \n",
    "\n",
    "* __idunplug_base__: Número de la base de la que se desengancha la bicicleta. \n",
    "\n",
    "* __idplug_station__: Número de la estación en la que se engancha la bicicleta. \n",
    "\n",
    "* __idplug_base__: Número de la base en la que se engancha la bicicleta.\n",
    "\n",
    "* __unplug_hourTime__: Franja horaria en la que se realiza el desenganche de la bicicleta. Por cuestiones de anonimato, se facilita la hora de inicio del movimiento, sin la información de minutos y segundos. Todos los movimientos iniciados durante la misma hora, tendrán el mismo dato de inicio.\n",
    "\n",
    "* __travel_time__: Tiempo total en segundos, entre el desenganche y el enganche de la bicicleta.\n",
    "\n",
    "* __track__: Detalle del trayecto realizado por la bicicleta entre la estación de partida y la de destino, en formato GeoJSON.\n",
    "\n",
    "* __user_type__: Número que indica el tipo de usuario que ha realizado el movimiento. Sus posibles valores son:\n",
    "\n",
    "    0: No se ha podido determinar el tipo de usuario \n",
    "    \n",
    "    1: Usuario anual (poseedor de un pase anual)\n",
    "\n",
    "    2: Usuario ocasional\n",
    "\n",
    "    3: Trabajador de la empresa\n",
    "\n",
    "* __ageRange__: Número que indica el rango de edad del usuario que ha realizado el movimiento. Sus posibles valores son:\n",
    "\n",
    "    0: No se ha podido determinar el rango de edad del usuario \n",
    "    \n",
    "    1: El usuario tiene entre 0 y 16 años\n",
    "\n",
    "    2: El usuario tiene entre 17 y 18 años\n",
    "\n",
    "    3: El usuario tiene entre 19 y 26 años\n",
    "\n",
    "    4: El usuario tiene entre 27 y 40 años\n",
    "\n",
    "    5: El usuario tiene entre 41 y 65 años \n",
    "    \n",
    "    6: El usuario tiene 66 años o más\n",
    "\n",
    "* __zip_code__: Texto que indica el código postal del usuario que ha realizado el movimiento.\n",
    "\n",
    "Se pide crear funciones que realicen las siguientes operaciones:\n",
    "* Leer los datos del archivo __202006_movements.json__\n",
    "* Consulta 1: Obtener y  mostrar por pantalla por cada valor del campo __idunplug_station__, el número de bicicletas que fueron recogidas en dichos puntos de recogida, es decir:\n",
    "\n",
    "|Punto de recogida|Bicicletas|\n",
    "|----|-------------|\n",
    "|Punto1|Total1|     \n",
    "|PuntoN|TotalN|  \n",
    "     \n",
    "* Consulta 2:Obtener y  mostrar por pantalla por cada valor diferente del campo __ageRange__ , el número de bicicletas que fueron recogidas, es decir:\n",
    "\n",
    "|Edad|Bicicletas|\n",
    "|----|-------------|\n",
    "|0|Total1|     \n",
    "|1|Total2|\n",
    "|---|---|\n",
    "|6|Total6|\n",
    "\n",
    "* Consulta 3: Generar una lista y mostrar una pantalla de aquellos puntos de recogida en los que ha habido usuarios que han recogido una bicicleta y los han usado también para dejarla posteriormente. Es decir, aquellos puntos donde existen registros que cumplen que __idunplug_station__ toma el mismo valor que __idplug_station__"
   ]
  },
  {
   "cell_type": "markdown",
   "metadata": {},
   "source": [
    "Para leer los archivos usa un código como el siguiente:"
   ]
  },
  {
   "cell_type": "code",
   "execution_count": null,
   "metadata": {},
   "outputs": [],
   "source": [
    "import json\n",
    "leer = json.loads(open('202006_movements.json',encoding=\"utf8\").read())\n",
    "print(leer)"
   ]
  },
  {
   "cell_type": "markdown",
   "metadata": {},
   "source": [
    "#### Normas de entrega\n",
    "\n",
    "* Fecha tope de entrega: 22/10/2020\n",
    "* La entrega se realizará subiendo al campus virtual un notebook de Jupyter con la solución. El archivo tendrá como nombre FormatosI_GrupoX donde X será el número de grupo correspondiente."
   ]
  }
 ],
 "metadata": {
  "kernelspec": {
   "display_name": "Python 3",
   "language": "python",
   "name": "python3"
  },
  "language_info": {
   "codemirror_mode": {
    "name": "ipython",
    "version": 3
   },
   "file_extension": ".py",
   "mimetype": "text/x-python",
   "name": "python",
   "nbconvert_exporter": "python",
   "pygments_lexer": "ipython3",
   "version": "3.8.3"
  }
 },
 "nbformat": 4,
 "nbformat_minor": 2
}
