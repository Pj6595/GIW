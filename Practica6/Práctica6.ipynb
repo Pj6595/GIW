{
 "cells": [
  {
   "cell_type": "markdown",
   "metadata": {},
   "source": [
    "### Práctica sobre APIs"
   ]
  },
  {
   "cell_type": "markdown",
   "metadata": {},
   "source": [
    "Se va a explotar la API REST vista en clase sobre películas y series OMDb API que se encuentra en:\n",
    "\n",
    "http://www.omdbapi.com/\n",
    "\n",
    "Lo primero que se debe hacer es obtener una clave de uso en el siguiente lugar:\n",
    "http://www.omdbapi.com/apikey.aspx\n",
    "\n",
    "\n",
    "Se pide crear una aplicación que actúe como un buscador con varias opciones:\n",
    " \n",
    " * __Opción 1__: Buscar por nombre de película. El usuario podrá introducir el nombre de una película y se deberá mostrar de forma amigable lo recuperado por cada película reconocida.\n",
    " \n",
    " * __Opción 2__: Buscar por identificador de película. El usuario podrá introducir elidentificador de una película y se deberá mostrar de forma amigable lo recuperado por cada película reconocida.\n",
    " \n",
    " * __Opción 3__: Búsqueda ampliada. Es una combinación de las opciones 1 y 2.El usuario introduce el nombre de una película y por cada película recuperada se deberá mostrar la información recuperada más la información adicional que se puede recuperar de cada película usando el identificador de pelicula. \n",
    " \n",
    " * __Opción 4__: Recuperacion de posters.El usuario podrá introducir el nombre de una película y se deberá mostrar por pantalla el nombre de cada película recuperada y la dirección al poster. Además se creará una carpeta donde se almacenarán los posters que deberán ser recuperados a partir de las direcciones indicadas.\n",
    "\n",
    " * __Opción 5__: Recuperacion con poster.El usuario podrá introducir el nombre de una película y se deberá mostrar por pantalla los nombres de las diferentes películas recuperadas. A continuación, el usuario elegirá una de esas películas y entonces se le mostrará por pantalla toda la información ampliada sobre esa película (como en la opción 2) pero además se le mostrará el poster de la película (para ello hay que bajarse previamente el poster de la película y usar el método Image como se realiza en los apuntes.\n",
    " * __Opción 6__: Salir o continuar.\n"
   ]
  },
  {
   "cell_type": "markdown",
   "metadata": {},
   "source": [
    "## Normas de entrega\n",
    "\n",
    "* Fecha tope de entrega: 19/11/2020\n",
    "* La entrega se realizará subiendo al campus virtual un notebook de Jupyter con la solución. El archivo tendrá como nombre DesarrolloWeb_GrupoX donde X será el número de grupo correspondiente."
   ]
  },
  {
   "cell_type": "code",
   "execution_count": null,
   "metadata": {},
   "outputs": [],
   "source": []
  }
 ],
 "metadata": {
  "kernelspec": {
   "display_name": "Python 3",
   "language": "python",
   "name": "python3"
  },
  "language_info": {
   "codemirror_mode": {
    "name": "ipython",
    "version": 3
   },
   "file_extension": ".py",
   "mimetype": "text/x-python",
   "name": "python",
   "nbconvert_exporter": "python",
   "pygments_lexer": "ipython3",
   "version": "3.7.3"
  }
 },
 "nbformat": 4,
 "nbformat_minor": 2
}
